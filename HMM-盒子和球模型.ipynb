{
 "cells": [
  {
   "cell_type": "markdown",
   "metadata": {},
   "source": [
    "### 案例"
   ]
  },
  {
   "cell_type": "markdown",
   "metadata": {},
   "source": [
    "*例子来源于李航的《统计学习方法》*\n",
    "假设我们有3个盒子，每个盒子里都有红色和白色两种球，这三个盒子里球的数量分别是：\n"
   ]
  },
  {
   "cell_type": "markdown",
   "metadata": {},
   "source": [
    "|||\n",
    ":--:|--|--|--\n",
    "盒子|\t1|\t2|\t3\n",
    "红球数\t|5\t|4\t|7\n",
    "白球数\t|5|\t6\t|3"
   ]
  },
  {
   "cell_type": "markdown",
   "metadata": {},
   "source": [
    "按照下面的方法从盒子里抽球:\n",
    "开始的时候，从第一个盒子抽球的概率是0.2，从第二个盒子抽球的概率是0.4，从第三个盒子抽球的概率是0.4。\n",
    "以这个概率抽一次球后，将球放回。然后从当前盒子转移到下一个盒子进行抽球。\n",
    "`规则是`：\n",
    "- 如果当前抽球的盒子是第一个盒子，则以0.5的概率仍然留在第一个盒子继续抽球，以0.2的概率去第二个盒子抽球，以0.3的概率去第三个盒子抽球。\n",
    "- 如果当前抽球的盒子是第二个盒子，则以0.5的概率仍然留在第二个盒子继续抽球，以0.3的概率去第一个盒子抽球，以0.2的概率去第三个盒子抽球。\n",
    "- 如果当前抽球的盒子是第三个盒子，则以0.5的概率仍然留在第三个盒子继续抽球，以0.2的概率去第一个盒子抽球，以0.3的概率去第二个盒子抽球。\n",
    "\n",
    "如此下去，直到重复三次，得到一个球的颜色的观测序列:"
   ]
  },
  {
   "cell_type": "markdown",
   "metadata": {},
   "source": [
    "$O=\\begin{Bmatrix} {\\text{红，白，红}} \\end{Bmatrix}$"
   ]
  },
  {
   "cell_type": "markdown",
   "metadata": {},
   "source": [
    "`注意在这个过程中，观察者只能看到球的颜色序列，却不能看到球是从哪个盒子里取出的。`"
   ]
  },
  {
   "cell_type": "markdown",
   "metadata": {},
   "source": [
    "观察集合是:\n",
    "$V=\\begin{Bmatrix} {\\text{红，白}} \\end{Bmatrix},M=2$"
   ]
  },
  {
   "cell_type": "markdown",
   "metadata": {},
   "source": [
    "状态集合是：\n",
    "$Q=\\begin{Bmatrix} {\\text{盒子1，盒子2，盒子3}} \\end{Bmatrix}$"
   ]
  },
  {
   "cell_type": "markdown",
   "metadata": {},
   "source": [
    "初始状态分布为：\n",
    "$\\Pi=(0.2,0.4,0.4)^T$"
   ]
  },
  {
   "cell_type": "markdown",
   "metadata": {},
   "source": [
    "状态转移概率分布矩阵为：\n",
    "\n",
    "$A=\n",
    "        \\begin{pmatrix}\n",
    "        0.5 & 0.2 & 0.3 \\\\\n",
    "        0.3 & 0.5 & 0.2 \\\\\n",
    "        0.2 & 0.3 & 0.5 \\\\\n",
    "        \\end{pmatrix}\n",
    "$"
   ]
  },
  {
   "cell_type": "markdown",
   "metadata": {},
   "source": [
    "观测状态概率矩阵为：\n",
    "\n",
    "$B=\n",
    "        \\begin{pmatrix}\n",
    "        0.5 & 0.5 \\\\\n",
    "        0.4 & 0.6 \\\\\n",
    "        0.7 & 0.3 \\\\\n",
    "        \\end{pmatrix}\n",
    "$"
   ]
  },
  {
   "cell_type": "markdown",
   "metadata": {},
   "source": [
    "### 代码"
   ]
  },
  {
   "cell_type": "code",
   "execution_count": 1,
   "metadata": {},
   "outputs": [],
   "source": [
    "#定义数据\n",
    "Hidden_states = (\"box 1\", \"box 2\", \"box 3\") # 隐状态集合\n",
    "Observations_states = ('red', 'white', 'red') # 观测状态集合\n",
    "\n",
    "Start_probability = {'box 1': 0.2, 'box 2': 0.4, 'box 3': 0.4} # 初始状态\n",
    "\n",
    "Hidden_transition_probability = { # 隐马尔可夫链中从当前盒子转移到其他盒子的概率\n",
    "    'box 1' : {'box 1': 0.5, 'box 2': 0.2, 'box 3': 0.3},\n",
    "    'box 2' : {'box 1': 0.3, 'box 2': 0.5, 'box 3': 0.2},\n",
    "    'box 3' : {'box 1': 0.2, 'box 2': 0.3, 'box 3': 0.5},\n",
    "   }\n",
    "\n",
    "Hidden_observations_probability = {    # 原来叫emission_probability。这里表示每个盒子里面红白球的数量\n",
    "    'box 1' : {'red': 0.5, 'white': 0.5},\n",
    "    'box 2' : {'red': 0.4, 'white': 0.6},\n",
    "    'box 3' : {'red': 0.7, 'white': 0.3},\n",
    "   }"
   ]
  },
  {
   "cell_type": "code",
   "execution_count": 2,
   "metadata": {},
   "outputs": [],
   "source": [
    "def print_dptable(V): # 打印矩阵\n",
    "    print (\"    \"),\n",
    "    for i in range(len(V)): \n",
    "        print(\"%7d\" % i)\n",
    "    print()\n",
    "\n",
    "    for y in V[0].keys():\n",
    "        print (\"%.5s: \" % y)\n",
    "        for t in range(len(V)):\n",
    "            print (\"%.7s\" % (\"%f\" % V[t][y]))\n",
    "        print()"
   ]
  },
  {
   "cell_type": "code",
   "execution_count": 3,
   "metadata": {},
   "outputs": [],
   "source": [
    "def viterbi(obs, states, start_p, trans_p, h2o_p): # Viterbi算法\n",
    "    '''\n",
    "    input:\n",
    "        obs:观测状态集合O={红，白，红}\n",
    "        states：隐状态集合Q={盒子1，盒子2，盒子3}\n",
    "        start_p：初始状态Π=(0.2,0.4,0.4)T\n",
    "        trans_p：转移状态矩阵A=【0.5 0.3 0.2\n",
    "                              0.2 0.5 0.3\n",
    "                              0.3 0.2 0.5】\n",
    "        h2o_p：观测状态概率矩阵为：B=【0.5 0.4 \n",
    "                                   0.7 0.5 \n",
    "                                   0.6 0.3】\n",
    "    output:\n",
    "        prob:最优概率\n",
    "        path[state]：最优路径\n",
    "    '''\n",
    "    V = [{}]\n",
    "    path = {}\n",
    "\n",
    "    # Initialize base cases (t == 0)\n",
    "    for y in states:\n",
    "        #t=1时刻，状态为i观测o1为红的概率，即δ1(i)\n",
    "        V[0][y] = start_p[y] * h2o_p[y][obs[0]]\n",
    "        # 初始状态，由start的概率，对应乘上发射概率，即由隐状态到观测状态的可能性\n",
    "        path[y] = [y]\n",
    "\n",
    "    # 开始遍历，t=2和t=3时刻\n",
    "    for t in range(1,len(obs)):\n",
    "        V.append({})\n",
    "        newpath = {}\n",
    "\n",
    "        for y in states:\n",
    "            # 对于每个箱子，计算其由前一个的各个状态，到现在箱子的概率大小，取最大值。即求出最有可能到达现在箱子的路径\n",
    "            # 前一个箱子转移到现在箱子的每个状态对应的路径大小都计算了，取最大值。作为V[t][y]的值，并更新路径\n",
    "            (prob, state) = max([(V[t-1][y0] * trans_p[y0][y] * h2o_p[y][obs[t]], y0) for y0 in states])\n",
    "            V[t][y] = prob\n",
    "            newpath[y] = path[state] + [y]\n",
    "\n",
    "        # Don't need to remember the old paths\n",
    "        path = newpath\n",
    "\n",
    "    print_dptable(V)\n",
    "    (prob, state) = max([(V[len(obs) - 1][y], y) for y in states])\n",
    "    return (prob, path[state])"
   ]
  },
  {
   "cell_type": "code",
   "execution_count": 4,
   "metadata": {},
   "outputs": [
    {
     "name": "stdout",
     "output_type": "stream",
     "text": [
      "    \n",
      "      0\n",
      "      1\n",
      "      2\n",
      "\n",
      "box 1: \n",
      "0.10000\n",
      "0.02800\n",
      "0.00756\n",
      "\n",
      "box 2: \n",
      "0.16000\n",
      "0.05040\n",
      "0.01008\n",
      "\n",
      "box 3: \n",
      "0.28000\n",
      "0.04200\n",
      "0.01470\n",
      "\n"
     ]
    },
    {
     "data": {
      "text/plain": [
       "(0.014699999999999998, ['box 3', 'box 3', 'box 3'])"
      ]
     },
     "execution_count": 4,
     "metadata": {},
     "output_type": "execute_result"
    }
   ],
   "source": [
    "viterbi(Observations_states,\n",
    "                   Hidden_states,\n",
    "                   Start_probability,\n",
    "                   Hidden_transition_probability,\n",
    "                   Hidden_observations_probability)"
   ]
  },
  {
   "cell_type": "markdown",
   "metadata": {},
   "source": [
    "### hmmlearn包计算"
   ]
  },
  {
   "cell_type": "code",
   "execution_count": 5,
   "metadata": {},
   "outputs": [],
   "source": [
    "import numpy  as np\n",
    "from hmmlearn import hmm"
   ]
  },
  {
   "cell_type": "code",
   "execution_count": 6,
   "metadata": {},
   "outputs": [],
   "source": [
    "\n",
    "\n",
    "states = [\"box 1\", \"box 2\", \"box3\"]\n",
    "n_states = len(states)\n",
    "\n",
    "observations = [\"red\", \"white\"]\n",
    "n_observations = len(observations)\n",
    "\n",
    "start_probability = np.array([0.2, 0.4, 0.4])\n",
    "\n",
    "transition_probability = np.array([\n",
    "  [0.5, 0.2, 0.3],\n",
    "  [0.3, 0.5, 0.2],\n",
    "  [0.2, 0.3, 0.5]\n",
    "])\n",
    "\n",
    "emission_probability = np.array([\n",
    "  [0.5, 0.5],\n",
    "  [0.4, 0.6],\n",
    "  [0.7, 0.3]\n",
    "])\n"
   ]
  },
  {
   "cell_type": "code",
   "execution_count": 7,
   "metadata": {},
   "outputs": [],
   "source": [
    "\n",
    "model = hmm.MultinomialHMM(n_components=n_states)\n",
    "model.startprob_=start_probability\n",
    "model.transmat_=transition_probability\n",
    "model.emissionprob_=emission_probability"
   ]
  },
  {
   "cell_type": "code",
   "execution_count": 8,
   "metadata": {},
   "outputs": [],
   "source": [
    "seen = np.array([[0,1,0]]).T\n",
    "logprob, box = model.decode(seen, algorithm=\"viterbi\")"
   ]
  },
  {
   "cell_type": "code",
   "execution_count": 9,
   "metadata": {},
   "outputs": [
    {
     "name": "stdout",
     "output_type": "stream",
     "text": [
      "The ball picked:【 red, white, red 】\n"
     ]
    }
   ],
   "source": [
    "print(\"The ball picked:【\", \", \".join(map(lambda x: observations[x[0]], seen)),\"】\")\n"
   ]
  },
  {
   "cell_type": "code",
   "execution_count": 10,
   "metadata": {},
   "outputs": [
    {
     "name": "stdout",
     "output_type": "stream",
     "text": [
      "The hidden box【 box3, box3, box3 】\n"
     ]
    }
   ],
   "source": [
    "print(\"The hidden box【\", \", \".join(map(lambda x: states[x], box)),\"】\")"
   ]
  },
  {
   "cell_type": "code",
   "execution_count": 11,
   "metadata": {},
   "outputs": [
    {
     "data": {
      "text/plain": [
       "-4.219907785197447"
      ]
     },
     "execution_count": 11,
     "metadata": {},
     "output_type": "execute_result"
    }
   ],
   "source": [
    "logprob"
   ]
  },
  {
   "cell_type": "code",
   "execution_count": 12,
   "metadata": {},
   "outputs": [
    {
     "data": {
      "text/plain": [
       "0.014699999999999996"
      ]
     },
     "execution_count": 12,
     "metadata": {},
     "output_type": "execute_result"
    }
   ],
   "source": [
    "np.exp(logprob)"
   ]
  },
  {
   "cell_type": "code",
   "execution_count": null,
   "metadata": {},
   "outputs": [],
   "source": []
  }
 ],
 "metadata": {
  "kernelspec": {
   "display_name": "Python 3",
   "language": "python",
   "name": "python3"
  },
  "language_info": {
   "codemirror_mode": {
    "name": "ipython",
    "version": 3
   },
   "file_extension": ".py",
   "mimetype": "text/x-python",
   "name": "python",
   "nbconvert_exporter": "python",
   "pygments_lexer": "ipython3",
   "version": "3.6.4"
  }
 },
 "nbformat": 4,
 "nbformat_minor": 2
}
