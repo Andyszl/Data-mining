{
 "cells": [
  {
   "cell_type": "code",
   "execution_count": 54,
   "metadata": {},
   "outputs": [],
   "source": [
    "from sklearn.ensemble import RandomForestRegressor\n",
    "from sklearn.metrics import accuracy_score\n",
    "import numpy as np"
   ]
  },
  {
   "cell_type": "code",
   "execution_count": 2,
   "metadata": {},
   "outputs": [],
   "source": [
    "import pandas as pd\n",
    "train = pd.read_csv(\"/Users/admin/Desktop/database/diabetes/diabetes_train.txt\",header=None,index_col=False)\n",
    "test = pd.read_csv(\"/Users/admin/Desktop/database/diabetes/diabetes_test.txt\",header=None,index_col=False)"
   ]
  },
  {
   "cell_type": "code",
   "execution_count": 22,
   "metadata": {},
   "outputs": [],
   "source": [
    "def judge(x):\n",
    "    s=[]\n",
    "    for i in range(len(x)):\n",
    "        if x[i]>=0.5:\n",
    "            y= 1\n",
    "        else:\n",
    "            y= 0\n",
    "        s.append(y)\n",
    "    return s"
   ]
  },
  {
   "cell_type": "code",
   "execution_count": 3,
   "metadata": {},
   "outputs": [],
   "source": [
    "label = train.loc[:,[8]].values.reshape(-1)\n",
    "data = train.drop(columns=8).values.reshape(-1,8)\n",
    "\n",
    "y_test =  test.loc[:,[8]].values.reshape(-1)\n",
    "X_test =  test.drop(columns=8).values.reshape(-1,8)"
   ]
  },
  {
   "cell_type": "markdown",
   "metadata": {},
   "source": [
    "### 随机森林"
   ]
  },
  {
   "cell_type": "code",
   "execution_count": 40,
   "metadata": {},
   "outputs": [],
   "source": [
    "rf = RandomForestRegressor(n_estimators=1000)  \n",
    "rf=rf.fit(data, label)  \n",
    "predictions_rf=rf.predict(X_test)"
   ]
  },
  {
   "cell_type": "code",
   "execution_count": 41,
   "metadata": {},
   "outputs": [],
   "source": [
    "pred_rf=judge(predictions_rf)"
   ]
  },
  {
   "cell_type": "code",
   "execution_count": 42,
   "metadata": {},
   "outputs": [
    {
     "name": "stdout",
     "output_type": "stream",
     "text": [
      "Test Accuracy of rf = 80.97 %\n"
     ]
    }
   ],
   "source": [
    "acc = accuracy_score(y_test, pred_rf)\n",
    "print(\"Test Accuracy of rf = {:.2f} %\".format(acc * 100))"
   ]
  },
  {
   "cell_type": "markdown",
   "metadata": {},
   "source": [
    "### 极端随机森林"
   ]
  },
  {
   "cell_type": "code",
   "execution_count": 27,
   "metadata": {},
   "outputs": [],
   "source": [
    "from sklearn.ensemble import  ExtraTreesRegressor"
   ]
  },
  {
   "cell_type": "code",
   "execution_count": 28,
   "metadata": {},
   "outputs": [],
   "source": [
    "etr=ExtraTreesRegressor(n_estimators=1000)  \n",
    "etr=etr.fit(data, label)  "
   ]
  },
  {
   "cell_type": "code",
   "execution_count": 43,
   "metadata": {},
   "outputs": [],
   "source": [
    "predictions_etr=etr.predict(X_test)"
   ]
  },
  {
   "cell_type": "code",
   "execution_count": 44,
   "metadata": {},
   "outputs": [],
   "source": [
    "pred_etr=judge(predictions_etr)"
   ]
  },
  {
   "cell_type": "code",
   "execution_count": 45,
   "metadata": {},
   "outputs": [
    {
     "name": "stdout",
     "output_type": "stream",
     "text": [
      "Test Accuracy of pred_etr = 79.85 %\n"
     ]
    }
   ],
   "source": [
    "acc = accuracy_score(y_test, pred_etr)\n",
    "print(\"Test Accuracy of pred_etr = {:.2f} %\".format(acc * 100))"
   ]
  },
  {
   "cell_type": "code",
   "execution_count": null,
   "metadata": {},
   "outputs": [],
   "source": []
  },
  {
   "cell_type": "markdown",
   "metadata": {},
   "source": [
    "### 深度森林"
   ]
  },
  {
   "cell_type": "code",
   "execution_count": 13,
   "metadata": {},
   "outputs": [],
   "source": [
    "import joblib\n",
    "from gcforest.gcforest import GCForest"
   ]
  },
  {
   "cell_type": "code",
   "execution_count": 38,
   "metadata": {},
   "outputs": [
    {
     "name": "stderr",
     "output_type": "stream",
     "text": [
      "[ 2020-06-22 11:26:14,357][cascade_classifier.fit_transform] X_groups_train.shape=[(500, 8)],y_train.shape=(500,),X_groups_test.shape=no_test,y_test.shape=no_test\n",
      "[ 2020-06-22 11:26:14,360][cascade_classifier.fit_transform] group_dims=[8]\n",
      "[ 2020-06-22 11:26:14,362][cascade_classifier.fit_transform] group_starts=[0]\n",
      "[ 2020-06-22 11:26:14,364][cascade_classifier.fit_transform] group_ends=[8]\n",
      "[ 2020-06-22 11:26:14,365][cascade_classifier.fit_transform] X_train.shape=(500, 8),X_test.shape=(0, 8)\n",
      "[ 2020-06-22 11:26:14,366][cascade_classifier.fit_transform] [layer=0] look_indexs=[0], X_cur_train.shape=(500, 8), X_cur_test.shape=(0, 8)\n",
      "[ 2020-06-22 11:26:14,591][kfold_wrapper.log_eval_metrics] Accuracy(layer_0 - estimator_0 - 2_folds.train_0.predict)=71.60%\n",
      "[ 2020-06-22 11:26:14,813][kfold_wrapper.log_eval_metrics] Accuracy(layer_0 - estimator_0 - 2_folds.train_1.predict)=70.40%\n",
      "[ 2020-06-22 11:26:14,814][kfold_wrapper.log_eval_metrics] Accuracy(layer_0 - estimator_0 - 2_folds.train_cv.predict)=71.00%\n",
      "[ 2020-06-22 11:26:15,045][kfold_wrapper.log_eval_metrics] Accuracy(layer_0 - estimator_1 - 2_folds.train_0.predict)=72.00%\n",
      "[ 2020-06-22 11:26:15,264][kfold_wrapper.log_eval_metrics] Accuracy(layer_0 - estimator_1 - 2_folds.train_1.predict)=71.60%\n",
      "[ 2020-06-22 11:26:15,265][kfold_wrapper.log_eval_metrics] Accuracy(layer_0 - estimator_1 - 2_folds.train_cv.predict)=71.80%\n",
      "/anaconda3/lib/python3.6/site-packages/sklearn/linear_model/_logistic.py:764: ConvergenceWarning: lbfgs failed to converge (status=1):\n",
      "STOP: TOTAL NO. of ITERATIONS REACHED LIMIT.\n",
      "\n",
      "Increase the number of iterations (max_iter) or scale the data as shown in:\n",
      "    https://scikit-learn.org/stable/modules/preprocessing.html\n",
      "Please also refer to the documentation for alternative solver options:\n",
      "    https://scikit-learn.org/stable/modules/linear_model.html#logistic-regression\n",
      "  extra_warning_msg=_LOGISTIC_SOLVER_CONVERGENCE_MSG)\n",
      "[ 2020-06-22 11:26:15,334][kfold_wrapper.log_eval_metrics] Accuracy(layer_0 - estimator_2 - 2_folds.train_0.predict)=73.20%\n",
      "/anaconda3/lib/python3.6/site-packages/sklearn/linear_model/_logistic.py:764: ConvergenceWarning: lbfgs failed to converge (status=1):\n",
      "STOP: TOTAL NO. of ITERATIONS REACHED LIMIT.\n",
      "\n",
      "Increase the number of iterations (max_iter) or scale the data as shown in:\n",
      "    https://scikit-learn.org/stable/modules/preprocessing.html\n",
      "Please also refer to the documentation for alternative solver options:\n",
      "    https://scikit-learn.org/stable/modules/linear_model.html#logistic-regression\n",
      "  extra_warning_msg=_LOGISTIC_SOLVER_CONVERGENCE_MSG)\n",
      "[ 2020-06-22 11:26:15,419][kfold_wrapper.log_eval_metrics] Accuracy(layer_0 - estimator_2 - 2_folds.train_1.predict)=70.00%\n",
      "[ 2020-06-22 11:26:15,433][kfold_wrapper.log_eval_metrics] Accuracy(layer_0 - estimator_2 - 2_folds.train_cv.predict)=71.60%\n",
      "[ 2020-06-22 11:26:15,454][cascade_classifier.calc_accuracy] Accuracy(layer_0 - train.classifier_average)=73.40%\n",
      "[ 2020-06-22 11:26:15,462][cascade_classifier.fit_transform] [layer=1] look_indexs=[0], X_cur_train.shape=(500, 14), X_cur_test.shape=(0, 14)\n",
      "[ 2020-06-22 11:26:15,705][kfold_wrapper.log_eval_metrics] Accuracy(layer_1 - estimator_0 - 2_folds.train_0.predict)=71.60%\n",
      "[ 2020-06-22 11:26:15,939][kfold_wrapper.log_eval_metrics] Accuracy(layer_1 - estimator_0 - 2_folds.train_1.predict)=73.60%\n",
      "[ 2020-06-22 11:26:15,941][kfold_wrapper.log_eval_metrics] Accuracy(layer_1 - estimator_0 - 2_folds.train_cv.predict)=72.60%\n",
      "[ 2020-06-22 11:26:16,171][kfold_wrapper.log_eval_metrics] Accuracy(layer_1 - estimator_1 - 2_folds.train_0.predict)=65.20%\n",
      "[ 2020-06-22 11:26:16,393][kfold_wrapper.log_eval_metrics] Accuracy(layer_1 - estimator_1 - 2_folds.train_1.predict)=66.40%\n",
      "[ 2020-06-22 11:26:16,394][kfold_wrapper.log_eval_metrics] Accuracy(layer_1 - estimator_1 - 2_folds.train_cv.predict)=65.80%\n",
      "/anaconda3/lib/python3.6/site-packages/sklearn/linear_model/_logistic.py:764: ConvergenceWarning: lbfgs failed to converge (status=1):\n",
      "STOP: TOTAL NO. of ITERATIONS REACHED LIMIT.\n",
      "\n",
      "Increase the number of iterations (max_iter) or scale the data as shown in:\n",
      "    https://scikit-learn.org/stable/modules/preprocessing.html\n",
      "Please also refer to the documentation for alternative solver options:\n",
      "    https://scikit-learn.org/stable/modules/linear_model.html#logistic-regression\n",
      "  extra_warning_msg=_LOGISTIC_SOLVER_CONVERGENCE_MSG)\n",
      "[ 2020-06-22 11:26:16,450][kfold_wrapper.log_eval_metrics] Accuracy(layer_1 - estimator_2 - 2_folds.train_0.predict)=72.00%\n",
      "/anaconda3/lib/python3.6/site-packages/sklearn/linear_model/_logistic.py:764: ConvergenceWarning: lbfgs failed to converge (status=1):\n",
      "STOP: TOTAL NO. of ITERATIONS REACHED LIMIT.\n",
      "\n",
      "Increase the number of iterations (max_iter) or scale the data as shown in:\n",
      "    https://scikit-learn.org/stable/modules/preprocessing.html\n",
      "Please also refer to the documentation for alternative solver options:\n",
      "    https://scikit-learn.org/stable/modules/linear_model.html#logistic-regression\n",
      "  extra_warning_msg=_LOGISTIC_SOLVER_CONVERGENCE_MSG)\n",
      "[ 2020-06-22 11:26:16,518][kfold_wrapper.log_eval_metrics] Accuracy(layer_1 - estimator_2 - 2_folds.train_1.predict)=73.60%\n",
      "[ 2020-06-22 11:26:16,523][kfold_wrapper.log_eval_metrics] Accuracy(layer_1 - estimator_2 - 2_folds.train_cv.predict)=72.80%\n",
      "[ 2020-06-22 11:26:16,529][cascade_classifier.calc_accuracy] Accuracy(layer_1 - train.classifier_average)=72.80%\n",
      "[ 2020-06-22 11:26:16,535][cascade_classifier.fit_transform] [layer=2] look_indexs=[0], X_cur_train.shape=(500, 14), X_cur_test.shape=(0, 14)\n",
      "[ 2020-06-22 11:26:16,789][kfold_wrapper.log_eval_metrics] Accuracy(layer_2 - estimator_0 - 2_folds.train_0.predict)=67.60%\n",
      "[ 2020-06-22 11:26:17,015][kfold_wrapper.log_eval_metrics] Accuracy(layer_2 - estimator_0 - 2_folds.train_1.predict)=68.80%\n",
      "[ 2020-06-22 11:26:17,018][kfold_wrapper.log_eval_metrics] Accuracy(layer_2 - estimator_0 - 2_folds.train_cv.predict)=68.20%\n",
      "[ 2020-06-22 11:26:17,248][kfold_wrapper.log_eval_metrics] Accuracy(layer_2 - estimator_1 - 2_folds.train_0.predict)=69.20%\n",
      "[ 2020-06-22 11:26:17,470][kfold_wrapper.log_eval_metrics] Accuracy(layer_2 - estimator_1 - 2_folds.train_1.predict)=71.60%\n",
      "[ 2020-06-22 11:26:17,472][kfold_wrapper.log_eval_metrics] Accuracy(layer_2 - estimator_1 - 2_folds.train_cv.predict)=70.40%\n",
      "/anaconda3/lib/python3.6/site-packages/sklearn/linear_model/_logistic.py:764: ConvergenceWarning: lbfgs failed to converge (status=1):\n",
      "STOP: TOTAL NO. of ITERATIONS REACHED LIMIT.\n",
      "\n",
      "Increase the number of iterations (max_iter) or scale the data as shown in:\n",
      "    https://scikit-learn.org/stable/modules/preprocessing.html\n",
      "Please also refer to the documentation for alternative solver options:\n",
      "    https://scikit-learn.org/stable/modules/linear_model.html#logistic-regression\n",
      "  extra_warning_msg=_LOGISTIC_SOLVER_CONVERGENCE_MSG)\n",
      "[ 2020-06-22 11:26:17,533][kfold_wrapper.log_eval_metrics] Accuracy(layer_2 - estimator_2 - 2_folds.train_0.predict)=71.20%\n",
      "/anaconda3/lib/python3.6/site-packages/sklearn/linear_model/_logistic.py:764: ConvergenceWarning: lbfgs failed to converge (status=1):\n",
      "STOP: TOTAL NO. of ITERATIONS REACHED LIMIT.\n",
      "\n",
      "Increase the number of iterations (max_iter) or scale the data as shown in:\n",
      "    https://scikit-learn.org/stable/modules/preprocessing.html\n",
      "Please also refer to the documentation for alternative solver options:\n",
      "    https://scikit-learn.org/stable/modules/linear_model.html#logistic-regression\n",
      "  extra_warning_msg=_LOGISTIC_SOLVER_CONVERGENCE_MSG)\n",
      "[ 2020-06-22 11:26:17,604][kfold_wrapper.log_eval_metrics] Accuracy(layer_2 - estimator_2 - 2_folds.train_1.predict)=71.60%\n",
      "[ 2020-06-22 11:26:17,611][kfold_wrapper.log_eval_metrics] Accuracy(layer_2 - estimator_2 - 2_folds.train_cv.predict)=71.40%\n",
      "[ 2020-06-22 11:26:17,614][cascade_classifier.calc_accuracy] Accuracy(layer_2 - train.classifier_average)=71.60%\n",
      "[ 2020-06-22 11:26:17,617][cascade_classifier.fit_transform] [layer=3] look_indexs=[0], X_cur_train.shape=(500, 14), X_cur_test.shape=(0, 14)\n",
      "[ 2020-06-22 11:26:17,855][kfold_wrapper.log_eval_metrics] Accuracy(layer_3 - estimator_0 - 2_folds.train_0.predict)=68.80%\n",
      "[ 2020-06-22 11:26:18,077][kfold_wrapper.log_eval_metrics] Accuracy(layer_3 - estimator_0 - 2_folds.train_1.predict)=68.00%\n",
      "[ 2020-06-22 11:26:18,079][kfold_wrapper.log_eval_metrics] Accuracy(layer_3 - estimator_0 - 2_folds.train_cv.predict)=68.40%\n"
     ]
    },
    {
     "name": "stderr",
     "output_type": "stream",
     "text": [
      "[ 2020-06-22 11:26:18,297][kfold_wrapper.log_eval_metrics] Accuracy(layer_3 - estimator_1 - 2_folds.train_0.predict)=68.40%\n",
      "[ 2020-06-22 11:26:18,525][kfold_wrapper.log_eval_metrics] Accuracy(layer_3 - estimator_1 - 2_folds.train_1.predict)=68.00%\n",
      "[ 2020-06-22 11:26:18,527][kfold_wrapper.log_eval_metrics] Accuracy(layer_3 - estimator_1 - 2_folds.train_cv.predict)=68.20%\n",
      "/anaconda3/lib/python3.6/site-packages/sklearn/linear_model/_logistic.py:764: ConvergenceWarning: lbfgs failed to converge (status=1):\n",
      "STOP: TOTAL NO. of ITERATIONS REACHED LIMIT.\n",
      "\n",
      "Increase the number of iterations (max_iter) or scale the data as shown in:\n",
      "    https://scikit-learn.org/stable/modules/preprocessing.html\n",
      "Please also refer to the documentation for alternative solver options:\n",
      "    https://scikit-learn.org/stable/modules/linear_model.html#logistic-regression\n",
      "  extra_warning_msg=_LOGISTIC_SOLVER_CONVERGENCE_MSG)\n",
      "[ 2020-06-22 11:26:18,583][kfold_wrapper.log_eval_metrics] Accuracy(layer_3 - estimator_2 - 2_folds.train_0.predict)=70.80%\n",
      "/anaconda3/lib/python3.6/site-packages/sklearn/linear_model/_logistic.py:764: ConvergenceWarning: lbfgs failed to converge (status=1):\n",
      "STOP: TOTAL NO. of ITERATIONS REACHED LIMIT.\n",
      "\n",
      "Increase the number of iterations (max_iter) or scale the data as shown in:\n",
      "    https://scikit-learn.org/stable/modules/preprocessing.html\n",
      "Please also refer to the documentation for alternative solver options:\n",
      "    https://scikit-learn.org/stable/modules/linear_model.html#logistic-regression\n",
      "  extra_warning_msg=_LOGISTIC_SOLVER_CONVERGENCE_MSG)\n",
      "[ 2020-06-22 11:26:18,626][kfold_wrapper.log_eval_metrics] Accuracy(layer_3 - estimator_2 - 2_folds.train_1.predict)=75.60%\n",
      "[ 2020-06-22 11:26:18,627][kfold_wrapper.log_eval_metrics] Accuracy(layer_3 - estimator_2 - 2_folds.train_cv.predict)=73.20%\n",
      "[ 2020-06-22 11:26:18,629][cascade_classifier.calc_accuracy] Accuracy(layer_3 - train.classifier_average)=72.40%\n",
      "[ 2020-06-22 11:26:18,631][cascade_classifier.fit_transform] [Result][Optimal Level Detected] opt_layer_num=1, accuracy_train=73.40%, accuracy_test=0.00%\n"
     ]
    }
   ],
   "source": [
    "def get_toy_config():\n",
    "    config = {}\n",
    "    ca_config = {}\n",
    "    ca_config[\"random_state\"] = 0  # 0 or 1\n",
    "    ca_config[\"n_cascadeRFtree\"] = 1000\n",
    "    ca_config[\"max_layers\"] = 100 # 最大的层数，layer对应论文中的level\n",
    "    ca_config[\"early_stopping_rounds\"] = 3 #如果出现某层的三层以内的准确率都没有提升，层中止\n",
    "    ca_config[\"n_classes\"] = 2 #判别的类别数量\n",
    "    ca_config[\"estimators\"] = []\n",
    "    \n",
    "    ca_config[\"estimators\"].append({\"n_folds\": 2, \"type\": \"RandomForestClassifier\", \"n_estimators\": 10, \"max_depth\": None, \"n_jobs\": -1})\n",
    "    ca_config[\"estimators\"].append({\"n_folds\": 2, \"type\": \"ExtraTreesClassifier\", \"n_estimators\": 10, \"max_depth\": None, \"n_jobs\": -1})\n",
    "    ca_config[\"estimators\"].append({\"n_folds\": 2, \"type\": \"LogisticRegression\"})\n",
    "    config[\"cascade\"] = ca_config #共使用了3个基学习器\n",
    "    return config\n",
    "    \n",
    "config=get_toy_config()\n",
    "gc = GCForest(config)\n",
    "#X_train_enc是每个模型最后一层输出的结果，每一个类别的可能性\n",
    "X_train_enc = gc.fit_transform(data, label)"
   ]
  },
  {
   "cell_type": "code",
   "execution_count": 39,
   "metadata": {},
   "outputs": [
    {
     "name": "stderr",
     "output_type": "stream",
     "text": [
      "[ 2020-06-22 11:26:24,638][cascade_classifier.transform] X_groups_test.shape=[(268, 8)]\n",
      "[ 2020-06-22 11:26:24,640][cascade_classifier.transform] group_dims=[8]\n",
      "[ 2020-06-22 11:26:24,642][cascade_classifier.transform] X_test.shape=(268, 8)\n",
      "[ 2020-06-22 11:26:24,643][cascade_classifier.transform] [layer=0] look_indexs=[0], X_cur_test.shape=(268, 8)\n"
     ]
    },
    {
     "name": "stdout",
     "output_type": "stream",
     "text": [
      "Test Accuracy of GcForest = 80.22 %\n"
     ]
    }
   ],
   "source": [
    "y_pred = gc.predict(X_test)\n",
    "acc = accuracy_score(y_test, y_pred)\n",
    "print(\"Test Accuracy of GcForest = {:.2f} %\".format(acc * 100))"
   ]
  },
  {
   "cell_type": "code",
   "execution_count": null,
   "metadata": {},
   "outputs": [],
   "source": []
  },
  {
   "cell_type": "code",
   "execution_count": null,
   "metadata": {},
   "outputs": [],
   "source": []
  },
  {
   "cell_type": "code",
   "execution_count": null,
   "metadata": {},
   "outputs": [],
   "source": []
  },
  {
   "cell_type": "markdown",
   "metadata": {},
   "source": [
    "### 深度森林测试MNIST数据集"
   ]
  },
  {
   "cell_type": "code",
   "execution_count": null,
   "metadata": {},
   "outputs": [],
   "source": []
  },
  {
   "cell_type": "code",
   "execution_count": 56,
   "metadata": {},
   "outputs": [
    {
     "name": "stderr",
     "output_type": "stream",
     "text": [
      "[ 2020-06-22 13:49:41,623][cascade_classifier.fit_transform] X_groups_train.shape=[(50000, 784)],y_train.shape=(50000,),X_groups_test.shape=no_test,y_test.shape=no_test\n",
      "[ 2020-06-22 13:49:41,800][cascade_classifier.fit_transform] group_dims=[784]\n",
      "[ 2020-06-22 13:49:41,803][cascade_classifier.fit_transform] group_starts=[0]\n",
      "[ 2020-06-22 13:49:41,818][cascade_classifier.fit_transform] group_ends=[784]\n",
      "[ 2020-06-22 13:49:41,821][cascade_classifier.fit_transform] X_train.shape=(50000, 784),X_test.shape=(0, 784)\n",
      "[ 2020-06-22 13:49:42,125][cascade_classifier.fit_transform] [layer=0] look_indexs=[0], X_cur_train.shape=(50000, 784), X_cur_test.shape=(0, 784)\n",
      "[ 2020-06-22 13:49:45,336][kfold_wrapper.log_eval_metrics] Accuracy(layer_0 - estimator_0 - 2_folds.train_0.predict)=93.07%\n",
      "[ 2020-06-22 13:49:47,299][kfold_wrapper.log_eval_metrics] Accuracy(layer_0 - estimator_0 - 2_folds.train_1.predict)=93.11%\n",
      "[ 2020-06-22 13:49:47,307][kfold_wrapper.log_eval_metrics] Accuracy(layer_0 - estimator_0 - 2_folds.train_cv.predict)=93.09%\n",
      "[ 2020-06-22 13:49:49,387][kfold_wrapper.log_eval_metrics] Accuracy(layer_0 - estimator_1 - 2_folds.train_0.predict)=93.56%\n",
      "[ 2020-06-22 13:49:51,582][kfold_wrapper.log_eval_metrics] Accuracy(layer_0 - estimator_1 - 2_folds.train_1.predict)=93.68%\n",
      "[ 2020-06-22 13:49:51,588][kfold_wrapper.log_eval_metrics] Accuracy(layer_0 - estimator_1 - 2_folds.train_cv.predict)=93.62%\n",
      "/anaconda3/lib/python3.6/site-packages/sklearn/linear_model/_logistic.py:764: ConvergenceWarning: lbfgs failed to converge (status=1):\n",
      "STOP: TOTAL NO. of ITERATIONS REACHED LIMIT.\n",
      "\n",
      "Increase the number of iterations (max_iter) or scale the data as shown in:\n",
      "    https://scikit-learn.org/stable/modules/preprocessing.html\n",
      "Please also refer to the documentation for alternative solver options:\n",
      "    https://scikit-learn.org/stable/modules/linear_model.html#logistic-regression\n",
      "  extra_warning_msg=_LOGISTIC_SOLVER_CONVERGENCE_MSG)\n",
      "[ 2020-06-22 13:50:19,937][kfold_wrapper.log_eval_metrics] Accuracy(layer_0 - estimator_2 - 2_folds.train_0.predict)=91.45%\n",
      "/anaconda3/lib/python3.6/site-packages/sklearn/linear_model/_logistic.py:764: ConvergenceWarning: lbfgs failed to converge (status=1):\n",
      "STOP: TOTAL NO. of ITERATIONS REACHED LIMIT.\n",
      "\n",
      "Increase the number of iterations (max_iter) or scale the data as shown in:\n",
      "    https://scikit-learn.org/stable/modules/preprocessing.html\n",
      "Please also refer to the documentation for alternative solver options:\n",
      "    https://scikit-learn.org/stable/modules/linear_model.html#logistic-regression\n",
      "  extra_warning_msg=_LOGISTIC_SOLVER_CONVERGENCE_MSG)\n",
      "[ 2020-06-22 13:50:56,005][kfold_wrapper.log_eval_metrics] Accuracy(layer_0 - estimator_2 - 2_folds.train_1.predict)=91.29%\n",
      "[ 2020-06-22 13:50:56,080][kfold_wrapper.log_eval_metrics] Accuracy(layer_0 - estimator_2 - 2_folds.train_cv.predict)=91.37%\n",
      "[ 2020-06-22 13:50:56,096][cascade_classifier.calc_accuracy] Accuracy(layer_0 - train.classifier_average)=94.46%\n",
      "[ 2020-06-22 13:50:56,667][cascade_classifier.fit_transform] [layer=1] look_indexs=[0], X_cur_train.shape=(50000, 814), X_cur_test.shape=(0, 814)\n",
      "[ 2020-06-22 13:51:00,977][kfold_wrapper.log_eval_metrics] Accuracy(layer_1 - estimator_0 - 2_folds.train_0.predict)=94.77%\n",
      "[ 2020-06-22 13:51:02,390][kfold_wrapper.log_eval_metrics] Accuracy(layer_1 - estimator_0 - 2_folds.train_1.predict)=95.00%\n",
      "[ 2020-06-22 13:51:02,398][kfold_wrapper.log_eval_metrics] Accuracy(layer_1 - estimator_0 - 2_folds.train_cv.predict)=94.89%\n",
      "[ 2020-06-22 13:51:04,192][kfold_wrapper.log_eval_metrics] Accuracy(layer_1 - estimator_1 - 2_folds.train_0.predict)=94.93%\n",
      "[ 2020-06-22 13:51:05,962][kfold_wrapper.log_eval_metrics] Accuracy(layer_1 - estimator_1 - 2_folds.train_1.predict)=95.16%\n",
      "[ 2020-06-22 13:51:05,969][kfold_wrapper.log_eval_metrics] Accuracy(layer_1 - estimator_1 - 2_folds.train_cv.predict)=95.04%\n",
      "/anaconda3/lib/python3.6/site-packages/sklearn/linear_model/_logistic.py:764: ConvergenceWarning: lbfgs failed to converge (status=1):\n",
      "STOP: TOTAL NO. of ITERATIONS REACHED LIMIT.\n",
      "\n",
      "Increase the number of iterations (max_iter) or scale the data as shown in:\n",
      "    https://scikit-learn.org/stable/modules/preprocessing.html\n",
      "Please also refer to the documentation for alternative solver options:\n",
      "    https://scikit-learn.org/stable/modules/linear_model.html#logistic-regression\n",
      "  extra_warning_msg=_LOGISTIC_SOLVER_CONVERGENCE_MSG)\n",
      "[ 2020-06-22 13:51:30,169][kfold_wrapper.log_eval_metrics] Accuracy(layer_1 - estimator_2 - 2_folds.train_0.predict)=95.41%\n",
      "/anaconda3/lib/python3.6/site-packages/sklearn/linear_model/_logistic.py:764: ConvergenceWarning: lbfgs failed to converge (status=1):\n",
      "STOP: TOTAL NO. of ITERATIONS REACHED LIMIT.\n",
      "\n",
      "Increase the number of iterations (max_iter) or scale the data as shown in:\n",
      "    https://scikit-learn.org/stable/modules/preprocessing.html\n",
      "Please also refer to the documentation for alternative solver options:\n",
      "    https://scikit-learn.org/stable/modules/linear_model.html#logistic-regression\n",
      "  extra_warning_msg=_LOGISTIC_SOLVER_CONVERGENCE_MSG)\n",
      "[ 2020-06-22 13:51:54,022][kfold_wrapper.log_eval_metrics] Accuracy(layer_1 - estimator_2 - 2_folds.train_1.predict)=95.32%\n",
      "[ 2020-06-22 13:51:54,029][kfold_wrapper.log_eval_metrics] Accuracy(layer_1 - estimator_2 - 2_folds.train_cv.predict)=95.36%\n",
      "[ 2020-06-22 13:51:54,039][cascade_classifier.calc_accuracy] Accuracy(layer_1 - train.classifier_average)=96.04%\n",
      "[ 2020-06-22 13:51:54,197][cascade_classifier.fit_transform] [layer=2] look_indexs=[0], X_cur_train.shape=(50000, 814), X_cur_test.shape=(0, 814)\n",
      "[ 2020-06-22 13:51:55,305][kfold_wrapper.log_eval_metrics] Accuracy(layer_2 - estimator_0 - 2_folds.train_0.predict)=95.64%\n",
      "[ 2020-06-22 13:51:56,973][kfold_wrapper.log_eval_metrics] Accuracy(layer_2 - estimator_0 - 2_folds.train_1.predict)=95.76%\n",
      "[ 2020-06-22 13:51:56,980][kfold_wrapper.log_eval_metrics] Accuracy(layer_2 - estimator_0 - 2_folds.train_cv.predict)=95.70%\n",
      "[ 2020-06-22 13:51:58,781][kfold_wrapper.log_eval_metrics] Accuracy(layer_2 - estimator_1 - 2_folds.train_0.predict)=96.16%\n",
      "[ 2020-06-22 13:52:00,463][kfold_wrapper.log_eval_metrics] Accuracy(layer_2 - estimator_1 - 2_folds.train_1.predict)=95.56%\n",
      "[ 2020-06-22 13:52:00,469][kfold_wrapper.log_eval_metrics] Accuracy(layer_2 - estimator_1 - 2_folds.train_cv.predict)=95.86%\n",
      "/anaconda3/lib/python3.6/site-packages/sklearn/linear_model/_logistic.py:764: ConvergenceWarning: lbfgs failed to converge (status=1):\n",
      "STOP: TOTAL NO. of ITERATIONS REACHED LIMIT.\n",
      "\n",
      "Increase the number of iterations (max_iter) or scale the data as shown in:\n",
      "    https://scikit-learn.org/stable/modules/preprocessing.html\n",
      "Please also refer to the documentation for alternative solver options:\n",
      "    https://scikit-learn.org/stable/modules/linear_model.html#logistic-regression\n",
      "  extra_warning_msg=_LOGISTIC_SOLVER_CONVERGENCE_MSG)\n",
      "[ 2020-06-22 13:52:31,036][kfold_wrapper.log_eval_metrics] Accuracy(layer_2 - estimator_2 - 2_folds.train_0.predict)=95.49%\n",
      "/anaconda3/lib/python3.6/site-packages/sklearn/linear_model/_logistic.py:764: ConvergenceWarning: lbfgs failed to converge (status=1):\n",
      "STOP: TOTAL NO. of ITERATIONS REACHED LIMIT.\n",
      "\n",
      "Increase the number of iterations (max_iter) or scale the data as shown in:\n",
      "    https://scikit-learn.org/stable/modules/preprocessing.html\n",
      "Please also refer to the documentation for alternative solver options:\n",
      "    https://scikit-learn.org/stable/modules/linear_model.html#logistic-regression\n",
      "  extra_warning_msg=_LOGISTIC_SOLVER_CONVERGENCE_MSG)\n",
      "[ 2020-06-22 13:53:16,834][kfold_wrapper.log_eval_metrics] Accuracy(layer_2 - estimator_2 - 2_folds.train_1.predict)=95.41%\n",
      "[ 2020-06-22 13:53:16,841][kfold_wrapper.log_eval_metrics] Accuracy(layer_2 - estimator_2 - 2_folds.train_cv.predict)=95.45%\n",
      "[ 2020-06-22 13:53:16,873][cascade_classifier.calc_accuracy] Accuracy(layer_2 - train.classifier_average)=96.09%\n",
      "[ 2020-06-22 13:53:17,026][cascade_classifier.fit_transform] [layer=3] look_indexs=[0], X_cur_train.shape=(50000, 814), X_cur_test.shape=(0, 814)\n",
      "[ 2020-06-22 13:53:18,656][kfold_wrapper.log_eval_metrics] Accuracy(layer_3 - estimator_0 - 2_folds.train_0.predict)=96.17%\n",
      "[ 2020-06-22 13:53:20,529][kfold_wrapper.log_eval_metrics] Accuracy(layer_3 - estimator_0 - 2_folds.train_1.predict)=95.78%\n"
     ]
    },
    {
     "name": "stderr",
     "output_type": "stream",
     "text": [
      "[ 2020-06-22 13:53:20,536][kfold_wrapper.log_eval_metrics] Accuracy(layer_3 - estimator_0 - 2_folds.train_cv.predict)=95.98%\n",
      "[ 2020-06-22 13:53:22,539][kfold_wrapper.log_eval_metrics] Accuracy(layer_3 - estimator_1 - 2_folds.train_0.predict)=95.88%\n",
      "[ 2020-06-22 13:53:25,617][kfold_wrapper.log_eval_metrics] Accuracy(layer_3 - estimator_1 - 2_folds.train_1.predict)=95.75%\n",
      "[ 2020-06-22 13:53:25,624][kfold_wrapper.log_eval_metrics] Accuracy(layer_3 - estimator_1 - 2_folds.train_cv.predict)=95.81%\n",
      "/anaconda3/lib/python3.6/site-packages/sklearn/linear_model/_logistic.py:764: ConvergenceWarning: lbfgs failed to converge (status=1):\n",
      "STOP: TOTAL NO. of ITERATIONS REACHED LIMIT.\n",
      "\n",
      "Increase the number of iterations (max_iter) or scale the data as shown in:\n",
      "    https://scikit-learn.org/stable/modules/preprocessing.html\n",
      "Please also refer to the documentation for alternative solver options:\n",
      "    https://scikit-learn.org/stable/modules/linear_model.html#logistic-regression\n",
      "  extra_warning_msg=_LOGISTIC_SOLVER_CONVERGENCE_MSG)\n",
      "[ 2020-06-22 13:53:54,291][kfold_wrapper.log_eval_metrics] Accuracy(layer_3 - estimator_2 - 2_folds.train_0.predict)=95.54%\n",
      "/anaconda3/lib/python3.6/site-packages/sklearn/linear_model/_logistic.py:764: ConvergenceWarning: lbfgs failed to converge (status=1):\n",
      "STOP: TOTAL NO. of ITERATIONS REACHED LIMIT.\n",
      "\n",
      "Increase the number of iterations (max_iter) or scale the data as shown in:\n",
      "    https://scikit-learn.org/stable/modules/preprocessing.html\n",
      "Please also refer to the documentation for alternative solver options:\n",
      "    https://scikit-learn.org/stable/modules/linear_model.html#logistic-regression\n",
      "  extra_warning_msg=_LOGISTIC_SOLVER_CONVERGENCE_MSG)\n",
      "[ 2020-06-22 13:54:26,510][kfold_wrapper.log_eval_metrics] Accuracy(layer_3 - estimator_2 - 2_folds.train_1.predict)=95.38%\n",
      "[ 2020-06-22 13:54:26,520][kfold_wrapper.log_eval_metrics] Accuracy(layer_3 - estimator_2 - 2_folds.train_cv.predict)=95.46%\n",
      "[ 2020-06-22 13:54:26,528][cascade_classifier.calc_accuracy] Accuracy(layer_3 - train.classifier_average)=96.10%\n",
      "[ 2020-06-22 13:54:26,723][cascade_classifier.fit_transform] [layer=4] look_indexs=[0], X_cur_train.shape=(50000, 814), X_cur_test.shape=(0, 814)\n",
      "[ 2020-06-22 13:54:29,560][kfold_wrapper.log_eval_metrics] Accuracy(layer_4 - estimator_0 - 2_folds.train_0.predict)=96.00%\n",
      "[ 2020-06-22 13:54:31,551][kfold_wrapper.log_eval_metrics] Accuracy(layer_4 - estimator_0 - 2_folds.train_1.predict)=96.01%\n",
      "[ 2020-06-22 13:54:31,564][kfold_wrapper.log_eval_metrics] Accuracy(layer_4 - estimator_0 - 2_folds.train_cv.predict)=96.01%\n",
      "[ 2020-06-22 13:54:33,491][kfold_wrapper.log_eval_metrics] Accuracy(layer_4 - estimator_1 - 2_folds.train_0.predict)=95.88%\n",
      "[ 2020-06-22 13:54:35,353][kfold_wrapper.log_eval_metrics] Accuracy(layer_4 - estimator_1 - 2_folds.train_1.predict)=95.97%\n",
      "[ 2020-06-22 13:54:35,360][kfold_wrapper.log_eval_metrics] Accuracy(layer_4 - estimator_1 - 2_folds.train_cv.predict)=95.93%\n",
      "/anaconda3/lib/python3.6/site-packages/sklearn/linear_model/_logistic.py:764: ConvergenceWarning: lbfgs failed to converge (status=1):\n",
      "STOP: TOTAL NO. of ITERATIONS REACHED LIMIT.\n",
      "\n",
      "Increase the number of iterations (max_iter) or scale the data as shown in:\n",
      "    https://scikit-learn.org/stable/modules/preprocessing.html\n",
      "Please also refer to the documentation for alternative solver options:\n",
      "    https://scikit-learn.org/stable/modules/linear_model.html#logistic-regression\n",
      "  extra_warning_msg=_LOGISTIC_SOLVER_CONVERGENCE_MSG)\n",
      "[ 2020-06-22 13:54:53,916][kfold_wrapper.log_eval_metrics] Accuracy(layer_4 - estimator_2 - 2_folds.train_0.predict)=95.44%\n",
      "/anaconda3/lib/python3.6/site-packages/sklearn/linear_model/_logistic.py:764: ConvergenceWarning: lbfgs failed to converge (status=1):\n",
      "STOP: TOTAL NO. of ITERATIONS REACHED LIMIT.\n",
      "\n",
      "Increase the number of iterations (max_iter) or scale the data as shown in:\n",
      "    https://scikit-learn.org/stable/modules/preprocessing.html\n",
      "Please also refer to the documentation for alternative solver options:\n",
      "    https://scikit-learn.org/stable/modules/linear_model.html#logistic-regression\n",
      "  extra_warning_msg=_LOGISTIC_SOLVER_CONVERGENCE_MSG)\n",
      "[ 2020-06-22 13:55:10,469][kfold_wrapper.log_eval_metrics] Accuracy(layer_4 - estimator_2 - 2_folds.train_1.predict)=95.46%\n",
      "[ 2020-06-22 13:55:10,477][kfold_wrapper.log_eval_metrics] Accuracy(layer_4 - estimator_2 - 2_folds.train_cv.predict)=95.45%\n",
      "[ 2020-06-22 13:55:10,487][cascade_classifier.calc_accuracy] Accuracy(layer_4 - train.classifier_average)=96.09%\n",
      "[ 2020-06-22 13:55:10,685][cascade_classifier.fit_transform] [layer=5] look_indexs=[0], X_cur_train.shape=(50000, 814), X_cur_test.shape=(0, 814)\n",
      "[ 2020-06-22 13:55:12,136][kfold_wrapper.log_eval_metrics] Accuracy(layer_5 - estimator_0 - 2_folds.train_0.predict)=95.86%\n",
      "[ 2020-06-22 13:55:13,279][kfold_wrapper.log_eval_metrics] Accuracy(layer_5 - estimator_0 - 2_folds.train_1.predict)=95.91%\n",
      "[ 2020-06-22 13:55:13,285][kfold_wrapper.log_eval_metrics] Accuracy(layer_5 - estimator_0 - 2_folds.train_cv.predict)=95.89%\n",
      "[ 2020-06-22 13:55:14,449][kfold_wrapper.log_eval_metrics] Accuracy(layer_5 - estimator_1 - 2_folds.train_0.predict)=96.09%\n",
      "[ 2020-06-22 13:55:15,689][kfold_wrapper.log_eval_metrics] Accuracy(layer_5 - estimator_1 - 2_folds.train_1.predict)=95.92%\n",
      "[ 2020-06-22 13:55:15,695][kfold_wrapper.log_eval_metrics] Accuracy(layer_5 - estimator_1 - 2_folds.train_cv.predict)=96.00%\n",
      "/anaconda3/lib/python3.6/site-packages/sklearn/linear_model/_logistic.py:764: ConvergenceWarning: lbfgs failed to converge (status=1):\n",
      "STOP: TOTAL NO. of ITERATIONS REACHED LIMIT.\n",
      "\n",
      "Increase the number of iterations (max_iter) or scale the data as shown in:\n",
      "    https://scikit-learn.org/stable/modules/preprocessing.html\n",
      "Please also refer to the documentation for alternative solver options:\n",
      "    https://scikit-learn.org/stable/modules/linear_model.html#logistic-regression\n",
      "  extra_warning_msg=_LOGISTIC_SOLVER_CONVERGENCE_MSG)\n",
      "[ 2020-06-22 13:55:31,824][kfold_wrapper.log_eval_metrics] Accuracy(layer_5 - estimator_2 - 2_folds.train_0.predict)=95.41%\n",
      "/anaconda3/lib/python3.6/site-packages/sklearn/linear_model/_logistic.py:764: ConvergenceWarning: lbfgs failed to converge (status=1):\n",
      "STOP: TOTAL NO. of ITERATIONS REACHED LIMIT.\n",
      "\n",
      "Increase the number of iterations (max_iter) or scale the data as shown in:\n",
      "    https://scikit-learn.org/stable/modules/preprocessing.html\n",
      "Please also refer to the documentation for alternative solver options:\n",
      "    https://scikit-learn.org/stable/modules/linear_model.html#logistic-regression\n",
      "  extra_warning_msg=_LOGISTIC_SOLVER_CONVERGENCE_MSG)\n",
      "[ 2020-06-22 13:55:46,915][kfold_wrapper.log_eval_metrics] Accuracy(layer_5 - estimator_2 - 2_folds.train_1.predict)=95.48%\n",
      "[ 2020-06-22 13:55:46,921][kfold_wrapper.log_eval_metrics] Accuracy(layer_5 - estimator_2 - 2_folds.train_cv.predict)=95.44%\n",
      "[ 2020-06-22 13:55:46,928][cascade_classifier.calc_accuracy] Accuracy(layer_5 - train.classifier_average)=96.07%\n",
      "[ 2020-06-22 13:55:47,061][cascade_classifier.fit_transform] [layer=6] look_indexs=[0], X_cur_train.shape=(50000, 814), X_cur_test.shape=(0, 814)\n",
      "[ 2020-06-22 13:55:48,270][kfold_wrapper.log_eval_metrics] Accuracy(layer_6 - estimator_0 - 2_folds.train_0.predict)=95.98%\n",
      "[ 2020-06-22 13:55:50,026][kfold_wrapper.log_eval_metrics] Accuracy(layer_6 - estimator_0 - 2_folds.train_1.predict)=95.97%\n",
      "[ 2020-06-22 13:55:50,032][kfold_wrapper.log_eval_metrics] Accuracy(layer_6 - estimator_0 - 2_folds.train_cv.predict)=95.97%\n",
      "[ 2020-06-22 13:55:51,704][kfold_wrapper.log_eval_metrics] Accuracy(layer_6 - estimator_1 - 2_folds.train_0.predict)=95.93%\n",
      "[ 2020-06-22 13:55:53,358][kfold_wrapper.log_eval_metrics] Accuracy(layer_6 - estimator_1 - 2_folds.train_1.predict)=95.96%\n",
      "[ 2020-06-22 13:55:53,365][kfold_wrapper.log_eval_metrics] Accuracy(layer_6 - estimator_1 - 2_folds.train_cv.predict)=95.94%\n",
      "/anaconda3/lib/python3.6/site-packages/sklearn/linear_model/_logistic.py:764: ConvergenceWarning: lbfgs failed to converge (status=1):\n",
      "STOP: TOTAL NO. of ITERATIONS REACHED LIMIT.\n",
      "\n",
      "Increase the number of iterations (max_iter) or scale the data as shown in:\n",
      "    https://scikit-learn.org/stable/modules/preprocessing.html\n",
      "Please also refer to the documentation for alternative solver options:\n",
      "    https://scikit-learn.org/stable/modules/linear_model.html#logistic-regression\n",
      "  extra_warning_msg=_LOGISTIC_SOLVER_CONVERGENCE_MSG)\n"
     ]
    },
    {
     "name": "stderr",
     "output_type": "stream",
     "text": [
      "[ 2020-06-22 13:56:08,396][kfold_wrapper.log_eval_metrics] Accuracy(layer_6 - estimator_2 - 2_folds.train_0.predict)=95.27%\n",
      "/anaconda3/lib/python3.6/site-packages/sklearn/linear_model/_logistic.py:764: ConvergenceWarning: lbfgs failed to converge (status=1):\n",
      "STOP: TOTAL NO. of ITERATIONS REACHED LIMIT.\n",
      "\n",
      "Increase the number of iterations (max_iter) or scale the data as shown in:\n",
      "    https://scikit-learn.org/stable/modules/preprocessing.html\n",
      "Please also refer to the documentation for alternative solver options:\n",
      "    https://scikit-learn.org/stable/modules/linear_model.html#logistic-regression\n",
      "  extra_warning_msg=_LOGISTIC_SOLVER_CONVERGENCE_MSG)\n",
      "[ 2020-06-22 13:56:24,512][kfold_wrapper.log_eval_metrics] Accuracy(layer_6 - estimator_2 - 2_folds.train_1.predict)=95.51%\n",
      "[ 2020-06-22 13:56:24,519][kfold_wrapper.log_eval_metrics] Accuracy(layer_6 - estimator_2 - 2_folds.train_cv.predict)=95.39%\n",
      "[ 2020-06-22 13:56:24,539][cascade_classifier.calc_accuracy] Accuracy(layer_6 - train.classifier_average)=96.06%\n",
      "[ 2020-06-22 13:56:24,541][cascade_classifier.fit_transform] [Result][Optimal Level Detected] opt_layer_num=4, accuracy_train=96.10%, accuracy_test=0.00%\n"
     ]
    }
   ],
   "source": [
    "def get_toy_config():\n",
    "    config = {}\n",
    "    ca_config = {}\n",
    "    ca_config[\"random_state\"] = 0  # 0 or 1\n",
    "    ca_config[\"n_cascadeRFtree\"] = 1000\n",
    "    ca_config[\"max_layers\"] = 100 # 最大的层数，layer对应论文中的level\n",
    "    ca_config[\"early_stopping_rounds\"] = 3 #如果出现某层的三层以内的准确率都没有提升，层中止\n",
    "    ca_config[\"n_classes\"] = 10 #判别的类别数量\n",
    "    ca_config[\"estimators\"] = []\n",
    "    \n",
    "    ca_config[\"estimators\"].append({\"n_folds\": 2, \"type\": \"RandomForestClassifier\", \"n_estimators\": 10, \"max_depth\": None, \"n_jobs\": -1})\n",
    "    ca_config[\"estimators\"].append({\"n_folds\": 2, \"type\": \"ExtraTreesClassifier\", \"n_estimators\": 10, \"max_depth\": None, \"n_jobs\": -1})\n",
    "    ca_config[\"estimators\"].append({\"n_folds\": 2, \"type\": \"LogisticRegression\"})\n",
    "    config[\"cascade\"] = ca_config #共使用了3个基学习器\n",
    "    return config\n",
    "    \n",
    "config=get_toy_config()\n",
    "gc = GCForest(config)\n",
    "#X_train_enc是每个模型最后一层输出的结果，每一个类别的可能性\n",
    "X_train_enc = gc.fit_transform(x_train, y_train)"
   ]
  },
  {
   "cell_type": "code",
   "execution_count": 57,
   "metadata": {},
   "outputs": [
    {
     "name": "stderr",
     "output_type": "stream",
     "text": [
      "[ 2020-06-22 14:00:43,163][cascade_classifier.transform] X_groups_test.shape=[(10000, 784)]\n",
      "[ 2020-06-22 14:00:43,236][cascade_classifier.transform] group_dims=[784]\n",
      "[ 2020-06-22 14:00:43,237][cascade_classifier.transform] X_test.shape=(10000, 784)\n",
      "[ 2020-06-22 14:00:43,265][cascade_classifier.transform] [layer=0] look_indexs=[0], X_cur_test.shape=(10000, 784)\n",
      "[ 2020-06-22 14:00:43,936][cascade_classifier.transform] [layer=1] look_indexs=[0], X_cur_test.shape=(10000, 814)\n",
      "[ 2020-06-22 14:00:44,666][cascade_classifier.transform] [layer=2] look_indexs=[0], X_cur_test.shape=(10000, 814)\n",
      "[ 2020-06-22 14:00:45,299][cascade_classifier.transform] [layer=3] look_indexs=[0], X_cur_test.shape=(10000, 814)\n"
     ]
    },
    {
     "name": "stdout",
     "output_type": "stream",
     "text": [
      "Test Accuracy of GcForest = 97.32 %\n"
     ]
    }
   ],
   "source": [
    "y_pred = gc.predict(x_valid)\n",
    "acc = accuracy_score(y_valid, y_pred)\n",
    "print(\"Test Accuracy of GcForest = {:.2f} %\".format(acc * 100))"
   ]
  },
  {
   "cell_type": "code",
   "execution_count": null,
   "metadata": {},
   "outputs": [],
   "source": []
  }
 ],
 "metadata": {
  "kernelspec": {
   "display_name": "Python 3",
   "language": "python",
   "name": "python3"
  },
  "language_info": {
   "codemirror_mode": {
    "name": "ipython",
    "version": 3
   },
   "file_extension": ".py",
   "mimetype": "text/x-python",
   "name": "python",
   "nbconvert_exporter": "python",
   "pygments_lexer": "ipython3",
   "version": "3.6.4"
  }
 },
 "nbformat": 4,
 "nbformat_minor": 2
}
