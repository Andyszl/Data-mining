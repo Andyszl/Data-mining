{
 "cells": [
  {
   "cell_type": "code",
   "execution_count": 94,
   "metadata": {},
   "outputs": [],
   "source": [
    "def sig(x):\n",
    "    return 1.0/(1+np.exp(-x))"
   ]
  },
  {
   "cell_type": "code",
   "execution_count": 95,
   "metadata": {},
   "outputs": [],
   "source": [
    "import numpy as np\n",
    "import matplotlib.pyplot as plt\n",
    "%matplotlib inline\n",
    "import warnings\n",
    "warnings.filterwarnings(\"ignore\")"
   ]
  },
  {
   "cell_type": "code",
   "execution_count": 96,
   "metadata": {},
   "outputs": [],
   "source": [
    "x=[]\n",
    "y=[]\n",
    "for i in range(50):\n",
    "    x.append(-i/10)\n",
    "    x.append(i/10)\n",
    "    y.append(sig(-i/10))\n",
    "    y.append(sig(i/10))\n",
    "    sorted(y)\n"
   ]
  },
  {
   "cell_type": "code",
   "execution_count": 97,
   "metadata": {},
   "outputs": [
    {
     "data": {
      "image/png": "[encoded data removed]",
      "text/plain": [
       "<Figure size 432x288 with 1 Axes>"
      ]
     },
     "metadata": {},
     "output_type": "display_data"
    }
   ],
   "source": [
    "plt.scatter(x,y)\n",
    "plt.show()"
   ]
  },
  {
   "cell_type": "code",
   "execution_count": 98,
   "metadata": {},
   "outputs": [],
   "source": [
    "def lr_gd(X,y,n,α):\n",
    "    k=np.shape(X)[1]#特征个数\n",
    "    w=np.mat(np.ones((k,1)))#初始化权重\n",
    "    i=0\n",
    "    while i <= n:#迭代次数\n",
    "        i+=1\n",
    "        h=sig(X.dot(w))\n",
    "        err=y-h\n",
    "        w=w+α*X.T.dot(err)\n",
    "    return w"
   ]
  },
  {
   "cell_type": "code",
   "execution_count": 99,
   "metadata": {},
   "outputs": [],
   "source": [
    "def load_data(file_name):\n",
    "    '''导入训练数据\n",
    "    input:  file_name(string)训练数据的位置\n",
    "    output: feature_data(mat)特征\n",
    "            label_data(mat)标签\n",
    "    '''\n",
    "    f = open(file_name)  # 打开文件\n",
    "    feature_data = []\n",
    "    label_data = []\n",
    "    for line in f.readlines():\n",
    "        feature_tmp = []\n",
    "        lable_tmp = []\n",
    "        lines = line.strip().split(\"\\t\")\n",
    "        feature_tmp.append(1)  # 偏置项\n",
    "        for i in range(len(lines) - 1):\n",
    "            feature_tmp.append(float(lines[i]))\n",
    "        lable_tmp.append(float(lines[-1]))\n",
    "        \n",
    "        feature_data.append(feature_tmp)\n",
    "        label_data.append(lable_tmp)\n",
    "    f.close()  # 关闭文件\n",
    "    return np.mat(feature_data), np.mat(label_data)\n"
   ]
  },
  {
   "cell_type": "code",
   "execution_count": 100,
   "metadata": {},
   "outputs": [],
   "source": [
    "X,y=load_data(\"data.txt\")"
   ]
  },
  {
   "cell_type": "code",
   "execution_count": 101,
   "metadata": {},
   "outputs": [
    {
     "data": {
      "text/plain": [
       "matrix([[ 1.39417775],\n",
       "        [ 4.52717713],\n",
       "        [-4.79398162]])"
      ]
     },
     "execution_count": 101,
     "metadata": {},
     "output_type": "execute_result"
    }
   ],
   "source": [
    "lr_gd(X,y,1000,0.01)"
   ]
  },
  {
   "cell_type": "code",
   "execution_count": 102,
   "metadata": {},
   "outputs": [],
   "source": [
    "w=lr_gd(X,y,1000,0.01)"
   ]
  },
  {
   "cell_type": "markdown",
   "metadata": {},
   "source": [
    "### 画图"
   ]
  },
  {
   "cell_type": "code",
   "execution_count": 103,
   "metadata": {},
   "outputs": [],
   "source": [
    "x = np.linspace(0, 10, 200)\n",
    "lr=(-w[0]-w[1]*x)/w[2]\n",
    "\n",
    "x=x.reshape((200,1))\n",
    "lr=lr.reshape((200,1))"
   ]
  },
  {
   "cell_type": "code",
   "execution_count": 104,
   "metadata": {},
   "outputs": [
    {
     "data": {
      "text/plain": [
       "[<matplotlib.lines.Line2D at 0x112bb3358>]"
      ]
     },
     "execution_count": 104,
     "metadata": {},
     "output_type": "execute_result"
    },
    {
     "data": {
      "image/png": "[encoded data removed]",
      "text/plain": [
       "<Figure size 432x288 with 1 Axes>"
      ]
     },
     "metadata": {},
     "output_type": "display_data"
    }
   ],
   "source": [
    "plt.plot(X[:,1][y==1],X[:,2][y==1],'bs' ,marker=\"o\")\n",
    "plt.plot(X[:,1][y==0],X[:,2][y==0],'rs', marker=\"^\")\n",
    "plt.plot(x1,lr,'k-',linewidth=2)"
   ]
  },
  {
   "cell_type": "code",
   "execution_count": null,
   "metadata": {},
   "outputs": [],
   "source": []
  },
  {
   "cell_type": "code",
   "execution_count": null,
   "metadata": {},
   "outputs": [],
   "source": []
  }
 ],
 "metadata": {
  "kernelspec": {
   "display_name": "Python 3",
   "language": "python",
   "name": "python3"
  },
  "language_info": {
   "codemirror_mode": {
    "name": "ipython",
    "version": 3
   },
   "file_extension": ".py",
   "mimetype": "text/x-python",
   "name": "python",
   "nbconvert_exporter": "python",
   "pygments_lexer": "ipython3",
   "version": "3.6.4"
  }
 },
 "nbformat": 4,
 "nbformat_minor": 2
}
